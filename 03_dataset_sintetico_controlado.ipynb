{
 "cells": [
  {
   "cell_type": "markdown",
   "id": "d616c366",
   "metadata": {},
   "source": [
    "# Experimento 2: Dataset sintético com alta correlação\n",
    "\n",
    "Neste experimento, foi gerado um dataset sintético com 5 mil registros e alta correlação entre a variável explicativa e o target.\n",
    "\n",
    "## Objetivo:\n",
    "Observar o desempenho de um modelo simples em um cenário controlado e ideal para regressão linear.\n",
    "\n",
    "## Resultados:\n",
    "- Regressão Linear:  \n",
    "  - R²: 0.99\n",
    "\n",
    "> Conclusão: Em dados com estrutura bem definida e forte relação linear, a regressão linear simples tem desempenho excelente."
   ]
  },
  {
   "cell_type": "code",
   "execution_count": 1,
   "id": "14f8a6a2",
   "metadata": {},
   "outputs": [
    {
     "name": "stdout",
     "output_type": "stream",
     "text": [
      "   renda_mensal  score_credito  tempo_emprego  inadimplente_passado  \\\n",
      "0   5745.071230     557.624032       2.964516                     0   \n",
      "1   4792.603548     554.658589       4.083502                     0   \n",
      "2   5971.532807     420.435683       3.207857                     1   \n",
      "3   7284.544785     566.990981       5.331254                     0   \n",
      "4   4648.769938     673.282908       8.591536                     1   \n",
      "\n",
      "   num_produtos  valor_aprovado  tipo_cliente_PJ  \n",
      "0             5    27129.814658             True  \n",
      "1             7    35730.793782             True  \n",
      "2             6    30874.604435             True  \n",
      "3             3    31334.806025             True  \n",
      "4             5    43459.876806             True  \n"
     ]
    }
   ],
   "source": [
    "import numpy as np\n",
    "import pandas as pd\n",
    "\n",
    "# Definindo número de registros\n",
    "n = 5000  # Aumente para 5000 ou mais se necessário\n",
    "\n",
    "# Gerando as variáveis independentes\n",
    "np.random.seed(42)\n",
    "renda_mensal = np.random.normal(5000, 1500, n)  # Média de 5000 e desvio padrão de 1500\n",
    "score_credito = np.random.normal(600, 100, n)   # Média de 600 e desvio padrão de 100\n",
    "tempo_emprego = np.random.normal(5, 3, n)       # Média de 5 anos, desvio padrão de 3\n",
    "inadimplente_passado = np.random.binomial(1, 0.2, n)  # 20% de chance de inadimplência\n",
    "num_produtos = np.random.randint(1, 10, n)      # Número de produtos entre 1 e 10\n",
    "tipo_cliente = np.random.choice(['PF', 'PJ'], n)  # Tipo de cliente\n",
    "\n",
    "# Gerando o valor_aprovado com forte relação linear\n",
    "# Definindo um relacionamento linear com coeficientes fixos\n",
    "valor_aprovado = 5000 + 0.5 * renda_mensal + 1.2 * score_credito + 3000 * tempo_emprego + 2000 * num_produtos + np.random.normal(0, 1000, n)\n",
    "\n",
    "# Criando o DataFrame\n",
    "df = pd.DataFrame({\n",
    "    'renda_mensal': renda_mensal,\n",
    "    'score_credito': score_credito,\n",
    "    'tempo_emprego': tempo_emprego,\n",
    "    'inadimplente_passado': inadimplente_passado,\n",
    "    'num_produtos': num_produtos,\n",
    "    'tipo_cliente': tipo_cliente,\n",
    "    'valor_aprovado': valor_aprovado\n",
    "})\n",
    "\n",
    "# Codificando a variável categórica \"tipo_cliente\"\n",
    "df = pd.get_dummies(df, columns=['tipo_cliente'], drop_first=True)\n",
    "\n",
    "print(df.head())\n"
   ]
  },
  {
   "cell_type": "code",
   "execution_count": 2,
   "id": "5f3f94bd",
   "metadata": {},
   "outputs": [
    {
     "name": "stdout",
     "output_type": "stream",
     "text": [
      "R²: 0.9909901176550733\n"
     ]
    }
   ],
   "source": [
    "from sklearn.linear_model import LinearRegression\n",
    "from sklearn.model_selection import train_test_split\n",
    "from sklearn.metrics import r2_score\n",
    "\n",
    "# Separando as variáveis independentes (X) e dependentes (y)\n",
    "X = df.drop(columns=['valor_aprovado'])\n",
    "y = df['valor_aprovado']\n",
    "\n",
    "# Dividindo em treino e teste\n",
    "X_train, X_test, y_train, y_test = train_test_split(X, y, test_size=0.2, random_state=42)\n",
    "\n",
    "# Treinando o modelo de regressão linear\n",
    "model = LinearRegression()\n",
    "model.fit(X_train, y_train)\n",
    "\n",
    "# Fazendo previsões\n",
    "y_pred = model.predict(X_test)\n",
    "\n",
    "# Calculando o R²\n",
    "r2 = r2_score(y_test, y_pred)\n",
    "print(f'R²: {r2}')\n"
   ]
  }
 ],
 "metadata": {
  "kernelspec": {
   "display_name": ".venv",
   "language": "python",
   "name": "python3"
  },
  "language_info": {
   "codemirror_mode": {
    "name": "ipython",
    "version": 3
   },
   "file_extension": ".py",
   "mimetype": "text/x-python",
   "name": "python",
   "nbconvert_exporter": "python",
   "pygments_lexer": "ipython3",
   "version": "3.11.9"
  }
 },
 "nbformat": 4,
 "nbformat_minor": 5
}
